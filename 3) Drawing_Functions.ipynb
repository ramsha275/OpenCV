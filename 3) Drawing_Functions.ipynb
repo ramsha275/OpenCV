{
 "cells": [
  {
   "cell_type": "code",
   "execution_count": 80,
   "metadata": {},
   "outputs": [
    {
     "data": {
      "text/plain": [
       "'4.4.0'"
      ]
     },
     "execution_count": 80,
     "metadata": {},
     "output_type": "execute_result"
    }
   ],
   "source": [
    "import cv2\n",
    "\n",
    "cv2.__version__"
   ]
  },
  {
   "cell_type": "code",
   "execution_count": 93,
   "metadata": {},
   "outputs": [
    {
     "name": "stdout",
     "output_type": "stream",
     "text": [
      "Using matplotlib backend: Qt5Agg\n"
     ]
    }
   ],
   "source": [
    "# Solution of Image Window not Responding Error.\n",
    "%matplotlib auto"
   ]
  },
  {
   "cell_type": "markdown",
   "metadata": {},
   "source": [
    "# DRAWING ON IMAGE- Functions\n",
    "\n",
    "1) **cv2.line**, **arrowedLine** takes the 5 parameters:\n",
    "\n",
    "* Image to draw on.\n",
    "* starting pixel point in tuple.\n",
    "* Ending pixel point in tuple.\n",
    "* Color in RGB format.\n",
    "* Thickness.\n",
    "\n",
    "2) **cv2.rectangle** takes the 5 parameters:\n",
    "\n",
    "* Image to draw on.\n",
    "* left-top pixel point to start drawing recangle, in tuple.\n",
    "* Right-bottom pixel point to end drawing recangle, in tuple.\n",
    "* Color in RGB format.\n",
    "* +ve value for Thickness **or** -ve value to fill in rectangle.\n",
    "\n",
    "3) **cv2.circle** takes the 5 parameters:\n",
    "\n",
    "* Image to draw on.\n",
    "* Center pixel point in tuple.\n",
    "* Radius.\n",
    "* Color in RGB format.\n",
    "* +ve value for Thickness **or** -ve value to fill in rectangle.\n",
    "\n",
    "4) **cv2.putText** is used to insert text in image. It takes following parameters:\n",
    "\n",
    "* Image to draw on.\n",
    "* Text to write.\n",
    "* Pixels from where to start writing.\n",
    "* Font type.\n",
    "* Font size.\n",
    "* Font Color.\n",
    "* Font Thickness.\n",
    "* Line Type\n"
   ]
  },
  {
   "cell_type": "code",
   "execution_count": 94,
   "metadata": {},
   "outputs": [],
   "source": [
    "img = cv2.imread(r'data\\apple.jpg' , 1)\n",
    "cv2.line(img , (50,50) , (200,50) , (173,255,47) , 5)\n",
    "cv2.arrowedLine(img , (50,100) , (50,300) , (169,169,169) , 3)\n",
    "cv2.rectangle(img , (50,350) , (200,450) , (255,228,181) , -1)\n",
    "cv2.circle(img , (200,300) , 20 ,(255,140,0) , 3)\n",
    "cv2.putText(img , \"Apple\" , (300,400) , cv2.FONT_HERSHEY_SCRIPT_SIMPLEX , 2, (173,255,47) , 2,cv2.LINE_AA)\n",
    "\n",
    "cv2.imshow(\"image\",img)\n",
    "if cv2.waitKey(0) == ord('q'): \n",
    "    cv2.destroyAllWindows()\n"
   ]
  },
  {
   "cell_type": "markdown",
   "metadata": {},
   "source": [
    "### Create a black background image using `np.zeros` or `np.ones`."
   ]
  },
  {
   "cell_type": "code",
   "execution_count": 95,
   "metadata": {},
   "outputs": [],
   "source": [
    "import numpy as np\n",
    "img = np.zeros([500,600,3],np.uint8)\n",
    "cv2.line(img , (50,50) , (200,50) , (173,255,47) , 5)\n",
    "cv2.arrowedLine(img , (50,100) , (50,300) , (169,169,169) , 3)\n",
    "cv2.rectangle(img , (50,350) , (200,450) , (255,228,181) , -1)\n",
    "cv2.circle(img , (200,300) , 20 ,(255,140,0) , 3)\n",
    "cv2.putText(img , \"Apple\" , (300,400) , cv2.FONT_HERSHEY_SCRIPT_SIMPLEX , 3, (173,255,47) , 2,cv2.LINE_AA)\n",
    "cv2.imshow(\"image\",img)\n",
    "if cv2.waitKey(0) == ord('q'): \n",
    "    cv2.destroyAllWindows()"
   ]
  }
 ],
 "metadata": {
  "kernelspec": {
   "display_name": "Python 3",
   "language": "python",
   "name": "python3"
  },
  "language_info": {
   "codemirror_mode": {
    "name": "ipython",
    "version": 3
   },
   "file_extension": ".py",
   "mimetype": "text/x-python",
   "name": "python",
   "nbconvert_exporter": "python",
   "pygments_lexer": "ipython3",
   "version": "3.7.3"
  }
 },
 "nbformat": 4,
 "nbformat_minor": 2
}
