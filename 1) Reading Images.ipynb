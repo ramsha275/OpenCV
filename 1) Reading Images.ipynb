{
 "cells": [
  {
   "cell_type": "code",
   "execution_count": 1,
   "metadata": {},
   "outputs": [],
   "source": [
    "import cv2\n"
   ]
  },
  {
   "cell_type": "code",
   "execution_count": 2,
   "metadata": {},
   "outputs": [
    {
     "data": {
      "text/plain": [
       "'4.4.0'"
      ]
     },
     "execution_count": 2,
     "metadata": {},
     "output_type": "execute_result"
    }
   ],
   "source": [
    "cv2.__version__"
   ]
  },
  {
   "cell_type": "markdown",
   "metadata": {},
   "source": [
    "# a) READING IMAGES\n",
    "\n",
    "**1) imread** loads an image and convert i into numpy array. It alse takes `flag` argument. It has 3 following values:\n",
    "\n",
    "- 1 - Load image in RGB.\n",
    "- 0 - Load image in Grayscale.\n",
    "- -1 - Load image with no cange and keep alpha values. \n",
    "\n",
    "**2) imshow()** will convert the numpy array and display the image.\n",
    "\n",
    "**3) WaitKey()** takes millisec as an argument and hold the image window till that particular time over. After that the window will be automatically closed with `destroyAllWindows()` command.\n",
    "\n",
    "**4) destroyAllWindows()** will close the window after the time has reached to given *ms*. \n",
    "\n",
    "**5) imwrite()** will save the image in any file format."
   ]
  },
  {
   "cell_type": "code",
   "execution_count": 9,
   "metadata": {
    "scrolled": true
   },
   "outputs": [],
   "source": [
    "img = cv2.imread(\"data\\lena.jpg\" , 0)\n",
    "cv2.imshow(\"Lena's Image\" , img)\n",
    "key = cv2.waitKey(0) & 0xFF\n",
    "if key == 113:    # ASCII of q key\n",
    "    cv2.destroyAllWindows()\n",
    "elif key == ord('s'):    # ord takes the name of one character key \n",
    "    cv2.imwrite(\"Lena Grayscale.png\",img)\n",
    "    cv2.destroyAllWindows()\n"
   ]
  }
 ],
 "metadata": {
  "kernelspec": {
   "display_name": "Python 3",
   "language": "python",
   "name": "python3"
  },
  "language_info": {
   "codemirror_mode": {
    "name": "ipython",
    "version": 3
   },
   "file_extension": ".py",
   "mimetype": "text/x-python",
   "name": "python",
   "nbconvert_exporter": "python",
   "pygments_lexer": "ipython3",
   "version": "3.7.3"
  }
 },
 "nbformat": 4,
 "nbformat_minor": 2
}
