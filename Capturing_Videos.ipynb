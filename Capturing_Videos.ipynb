{
 "cells": [
  {
   "cell_type": "code",
   "execution_count": 1,
   "metadata": {},
   "outputs": [
    {
     "data": {
      "text/plain": [
       "'4.4.0'"
      ]
     },
     "execution_count": 1,
     "metadata": {},
     "output_type": "execute_result"
    }
   ],
   "source": [
    "import cv2\n",
    "cv2.__version__"
   ]
  },
  {
   "cell_type": "markdown",
   "metadata": {},
   "source": [
    "# Video Capturing Functions:\n",
    "\n",
    "### a) Capture color video\n",
    "\n",
    "1) **VideoCapture()** object takes an int value as an device index (if you are capturing from webcam) or video filename. Here, I am using an IP webcam, that's why I pasted the server url.\n",
    "\n",
    "2) Then we need to capture the frame continuously that's why we are using while loop.\n",
    "\n",
    "3) **cap.read()** returns a bool `(True/False)`. If frame is read correctly, it will be True and it will also return that `frame`. So you can check end of the video by checking this return value.\n",
    "\n",
    "4) **imshow()** will display the video frame by frame.\n",
    "\n",
    "5) In the end, you have to close the file or capturing device by using **cap.release()** "
   ]
  },
  {
   "cell_type": "code",
   "execution_count": 2,
   "metadata": {},
   "outputs": [],
   "source": [
    "cap = cv2.VideoCapture(\"http://192.168.0.102:8080/video\")\n",
    "while(1):\n",
    "    ret , frame = cap.read()\n",
    "    cv2.imshow(\"win\",frame)\n",
    "    if cv2.waitKey(1) & 0xFF == ord('q'):\n",
    "        break\n",
    "cap.release()\n",
    "cv2.destroyAllWindows()       "
   ]
  },
  {
   "cell_type": "markdown",
   "metadata": {},
   "source": [
    "### b) Capture Colored Video in Grayscale format\n",
    "\n",
    "\n",
    "1) **cv2.cvtColor** Converts an image from one color space to another. It takes a `frame` as 1<sup>st</sup> argument and `color-scheme` as a 2<sup>nd</sup> argument."
   ]
  },
  {
   "cell_type": "code",
   "execution_count": 6,
   "metadata": {},
   "outputs": [],
   "source": [
    "cap = cv2.VideoCapture(\"http://192.168.0.102:8080/video\")\n",
    "while(1):\n",
    "    ret , frame = cap.read()\n",
    "    gray_frame = cv2.cvtColor(frame , cv2.COLOR_BGR2GRAY)\n",
    "    cv2.imshow(\"Frame by Frame Grayscale Video\",gray_frame)\n",
    "    if cv2.waitKey(1) & 0xFF == ord('q'):\n",
    "        break\n",
    "cap.release()\n",
    "cv2.destroyAllWindows()   "
   ]
  },
  {
   "cell_type": "markdown",
   "metadata": {},
   "source": [
    "##### Point to Remember:\n",
    "\n",
    "if filename is incorrect your code will through exception. In order to get rid of this issue, you can use **.isOpened()** method in while loop. The loop will run only when the file is opened or `isOpened == True`. "
   ]
  },
  {
   "cell_type": "code",
   "execution_count": 10,
   "metadata": {},
   "outputs": [
    {
     "name": "stdout",
     "output_type": "stream",
     "text": [
      "False\n"
     ]
    }
   ],
   "source": [
    "cap = cv2.VideoCapture(\"http://192.168.0.102:8080/video\")\n",
    "print(cap.isOpened())\n",
    "while(cap.isOpened()):\n",
    "    ret , frame = cap.read()\n",
    "    gray_frame = cv2.cvtColor(frame , cv2.COLOR_BGR2GRAY)\n",
    "    cv2.imshow(\"Frame by Frame Grayscale Video\",gray_frame)\n",
    "    if cv2.waitKey(1) & 0xFF == ord('q'):\n",
    "        break\n",
    "cap.release()\n",
    "cv2.destroyAllWindows() "
   ]
  },
  {
   "cell_type": "markdown",
   "metadata": {},
   "source": [
    "### Exploring different properties:\n",
    "\n",
    "* Different properties of `VideoCapture()` object can be explored by **cap.get(propID)** method.\n",
    "<br/><br/>\n",
    "\n",
    "* To find `height` of the frame `propID = 4` or `propID = CAP_PROP_FRAME_HEIGHT`. <br/><br/>\n",
    "\n",
    "* Link for more PropIDs [Click](https://docs.opencv.org/3.4/d4/d15/group__videoio__flags__base.html)."
   ]
  },
  {
   "cell_type": "code",
   "execution_count": 12,
   "metadata": {},
   "outputs": [
    {
     "name": "stdout",
     "output_type": "stream",
     "text": [
      "True\n",
      "Width of a frame:  1920.0\n",
      "Height of a frame:  1080.0\n"
     ]
    }
   ],
   "source": [
    "cap = cv2.VideoCapture(\"http://192.168.0.102:8080/video\")\n",
    "print(cap.isOpened())\n",
    "while(cap.isOpened()):\n",
    "    ret , frame = cap.read()\n",
    "    gray_frame = cv2.cvtColor(frame , cv2.COLOR_BGR2GRAY)\n",
    "    cv2.imshow(\"Frame by Frame Grayscale Video\",gray_frame)\n",
    "    if cv2.waitKey(1) & 0xFF == ord('q'):\n",
    "        break\n",
    "print(\"Width of a frame: \",cap.get(3))\n",
    "print(\"Height of a frame: \",cap.get(4))\n",
    "cap.release()\n",
    "cv2.destroyAllWindows() "
   ]
  },
  {
   "cell_type": "markdown",
   "metadata": {},
   "source": [
    "### Save the video.\n",
    "\n",
    "1) **cv2.VideoWriter_fourcc( )** takes 4-bit codec.\n",
    "\n",
    "2) The **cv2.VideoWriter( )**  requires five parameters:\n",
    "\n",
    "* The first parameter is the path to the output video file. In this case, we’ll supply the value of the --output  switch, which is the path to where our video file will live on disk.\n",
    "\n",
    "* Secondly, we need to supply the fourcc  codec.\n",
    "\n",
    "* The third argument to cv2.VideoWriter is the desired FPS of the output video file.\n",
    "\n",
    "* We then have the width and height of output video. It’s important that you set these values correctly, otherwise OpenCV will throw an error if you try to write a frame to file that has different dimensions than the ones supplied to cv2.VideoWriter .\n",
    "\n",
    "* Finally, the last parameter controls whether or not we are writing color frames to file. A value of True  indicates that we are writing color frames. Supplying False  indicates we are not writing color frames.\n",
    "\n",
    "3) Then you can save the frame in the file by using **out.write(frame)**.\n",
    "\n",
    "4) In the end, you have to release the `VideoWriter( )` by using **var.release()**. \n",
    "\n",
    "5) link for fourcc codecs - [click](https://www.fourcc.org/codecs.php)."
   ]
  },
  {
   "cell_type": "code",
   "execution_count": 20,
   "metadata": {},
   "outputs": [],
   "source": [
    "cap = cv2.VideoCapture(\"http://192.168.0.102:8080/video\")\n",
    "\n",
    "fourcc = cv2.VideoWriter_fourcc(*\"XVID\")\n",
    "out = cv2.VideoWriter('my_saved_RGB_video.avi' , fourcc , 20.0 , (1920,1080))\n",
    "while(cap.isOpened()):\n",
    "    ret , frame = cap.read()\n",
    "    if ret == True:\n",
    "        out.write(frame)\n",
    "        cv2.imshow(\"Frame by Frame Color Video\",frame)\n",
    "        if cv2.waitKey(1) & 0xFF == ord('q'):\n",
    "            break\n",
    "    else:\n",
    "        break\n",
    "cap.release()\n",
    "out.release()\n",
    "cv2.destroyAllWindows() "
   ]
  }
 ],
 "metadata": {
  "kernelspec": {
   "display_name": "Python 3",
   "language": "python",
   "name": "python3"
  },
  "language_info": {
   "codemirror_mode": {
    "name": "ipython",
    "version": 3
   },
   "file_extension": ".py",
   "mimetype": "text/x-python",
   "name": "python",
   "nbconvert_exporter": "python",
   "pygments_lexer": "ipython3",
   "version": "3.7.3"
  }
 },
 "nbformat": 4,
 "nbformat_minor": 2
}
